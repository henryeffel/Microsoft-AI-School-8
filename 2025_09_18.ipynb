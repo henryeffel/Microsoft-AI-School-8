{
 "cells": [
  {
   "cell_type": "code",
   "execution_count": null,
   "id": "eef0e015",
   "metadata": {},
   "outputs": [],
   "source": []
  },
  {
   "cell_type": "code",
   "execution_count": null,
   "id": "55f27c83",
   "metadata": {},
   "outputs": [],
   "source": [
    "print(\"hellop\")"
   ]
  },
  {
   "cell_type": "code",
   "execution_count": 1,
   "id": "4c758fd8",
   "metadata": {},
   "outputs": [
    {
     "name": "stdout",
     "output_type": "stream",
     "text": [
      "hellpo\n"
     ]
    }
   ],
   "source": [
    "print(\"hellpo\")"
   ]
  },
  {
   "cell_type": "code",
   "execution_count": 2,
   "id": "cb6393c4",
   "metadata": {},
   "outputs": [
    {
     "name": "stdout",
     "output_type": "stream",
     "text": [
      "hello\n"
     ]
    }
   ],
   "source": [
    "print(\"hello\")"
   ]
  },
  {
   "cell_type": "code",
   "execution_count": null,
   "id": "937ada50",
   "metadata": {},
   "outputs": [],
   "source": []
  }
 ],
 "metadata": {
  "kernelspec": {
   "display_name": "Python 3",
   "language": "python",
   "name": "python3"
  },
  "language_info": {
   "codemirror_mode": {
    "name": "ipython",
    "version": 3
   },
   "file_extension": ".py",
   "mimetype": "text/x-python",
   "name": "python",
   "nbconvert_exporter": "python",
   "pygments_lexer": "ipython3",
   "version": "3.11.8"
  }
 },
 "nbformat": 4,
 "nbformat_minor": 5
}
